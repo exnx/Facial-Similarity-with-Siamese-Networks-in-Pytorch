{
 "cells": [
  {
   "cell_type": "markdown",
   "metadata": {},
   "source": [
    "# One Shot Learning with Siamese Networks\n",
    "\n",
    "This is the jupyter notebook that accompanies"
   ]
  },
  {
   "cell_type": "markdown",
   "metadata": {},
   "source": [
    "## Imports\n",
    "All the imports are defined here"
   ]
  },
  {
   "cell_type": "code",
   "execution_count": 1,
   "metadata": {},
   "outputs": [],
   "source": [
    "%matplotlib inline\n",
    "import torchvision\n",
    "import torchvision.datasets as dset\n",
    "import torchvision.transforms as transforms\n",
    "from torch.utils.data import DataLoader,Dataset\n",
    "import matplotlib.pyplot as plt\n",
    "import torchvision.utils\n",
    "import numpy as np\n",
    "import random\n",
    "from PIL import Image\n",
    "import torch\n",
    "from torch.autograd import Variable\n",
    "import PIL.ImageOps    \n",
    "import torch.nn as nn\n",
    "from torch import optim\n",
    "import torch.nn.functional as F\n",
    "from siamese_dataset import SiameseDataset\n",
    "import os"
   ]
  },
  {
   "cell_type": "markdown",
   "metadata": {},
   "source": [
    "## Helper functions\n",
    "Set of helper functions to visualize data and training curves"
   ]
  },
  {
   "cell_type": "code",
   "execution_count": 2,
   "metadata": {},
   "outputs": [],
   "source": [
    "def imshow(img,text=None,should_save=False):\n",
    "    npimg = img.numpy()\n",
    "    plt.axis(\"off\")\n",
    "    if text:\n",
    "        plt.text(75, 8, text, style='italic',fontweight='bold',\n",
    "            bbox={'facecolor':'white', 'alpha':0.8, 'pad':10})\n",
    "    plt.imshow(np.transpose(npimg, (1, 2, 0)))\n",
    "    plt.show()    \n",
    "\n",
    "def show_plot(train_losses, val_losses):\n",
    "    \n",
    "    x = list(range(len(train_losses)))\n",
    "    fig, (ax1, ax2) = plt.subplots(2)\n",
    "    fig.suptitle('Train and Val Losses')\n",
    "    ax1.plot(x, train_losses)\n",
    "    ax2.plot(x, val_losses)\n",
    "    plt.savefig('train_val_loss.png')\n",
    "    plt.show()"
   ]
  },
  {
   "cell_type": "markdown",
   "metadata": {},
   "source": [
    "## Configuration Class\n",
    "A simple class to manage configuration"
   ]
  },
  {
   "cell_type": "code",
   "execution_count": 3,
   "metadata": {},
   "outputs": [],
   "source": [
    "class Config():\n",
    "    training_dir = \"./address_gram_images/train/\"\n",
    "    val_dir = \"./address_gram_images/val/\"\n",
    "    test_dir = \"./address_gram_images/test/\"\n",
    "    \n",
    "    train_batch_size = 64\n",
    "    train_number_epochs = 60"
   ]
  },
  {
   "cell_type": "markdown",
   "metadata": {},
   "source": [
    "## Custom Dataset Class\n",
    "This dataset generates a pair of images. 0 for geniune pair and 1 for imposter pair"
   ]
  },
  {
   "cell_type": "markdown",
   "metadata": {},
   "source": [
    "## Using Image Folder Dataset"
   ]
  },
  {
   "cell_type": "code",
   "execution_count": 4,
   "metadata": {},
   "outputs": [],
   "source": [
    "# create image folder objects\n",
    "train_folder = dset.ImageFolder(root=Config.training_dir)\n",
    "val_folder = dset.ImageFolder(root=Config.val_dir)\n",
    "test_folder = dset.ImageFolder(root=Config.test_dir)"
   ]
  },
  {
   "cell_type": "code",
   "execution_count": 5,
   "metadata": {},
   "outputs": [],
   "source": [
    "# define transforms\n",
    "image_size = 128\n",
    "\n",
    "transform_all = transforms.Compose([transforms.Resize((image_size, image_size)),\n",
    "                                    transforms.ToTensor()] )  # can potentially change these vals"
   ]
  },
  {
   "cell_type": "markdown",
   "metadata": {},
   "source": [
    "# create dataset objects"
   ]
  },
  {
   "cell_type": "code",
   "execution_count": 6,
   "metadata": {},
   "outputs": [],
   "source": [
    "train_dataset = SiameseDataset(imageFolderDataset=train_folder,\n",
    "                                        transform=transform_all,\n",
    "                                       should_invert=False)\n",
    "val_dataset = SiameseDataset(imageFolderDataset=val_folder,\n",
    "                                        transform=transform_all,\n",
    "                                       should_invert=False)\n",
    "test_dataset = SiameseDataset(imageFolderDataset=test_folder,\n",
    "                                        transform=transform_all,\n",
    "                                       should_invert=False)"
   ]
  },
  {
   "cell_type": "markdown",
   "metadata": {},
   "source": [
    "## Visualising some of the data\n",
    "The top row and the bottom row of any column is one pair. The 0s and 1s correspond to the column of the image.\n",
    "1 indiciates dissimilar, and 0 indicates similar."
   ]
  },
  {
   "cell_type": "code",
   "execution_count": 7,
   "metadata": {},
   "outputs": [
    {
     "data": {
      "image/png": "[encoded data removed]",
      "text/plain": [
       "<Figure size 432x288 with 1 Axes>"
      ]
     },
     "metadata": {
      "needs_background": "light"
     },
     "output_type": "display_data"
    },
    {
     "name": "stdout",
     "output_type": "stream",
     "text": [
      "[[0.]\n",
      " [1.]\n",
      " [1.]\n",
      " [0.]\n",
      " [0.]\n",
      " [1.]\n",
      " [1.]\n",
      " [1.]]\n"
     ]
    }
   ],
   "source": [
    "vis_dataloader = DataLoader(train_dataset,\n",
    "                        shuffle=True,\n",
    "                        num_workers=8,\n",
    "                        batch_size=8)\n",
    "dataiter = iter(vis_dataloader)\n",
    "\n",
    "\n",
    "example_batch = next(dataiter)\n",
    "concatenated = torch.cat((example_batch[0],example_batch[1]),0)\n",
    "imshow(torchvision.utils.make_grid(concatenated))\n",
    "print(example_batch[2].numpy())"
   ]
  },
  {
   "cell_type": "markdown",
   "metadata": {
    "collapsed": true
   },
   "source": [
    "## Neural Net Definition\n",
    "We will use a standard convolutional neural network"
   ]
  },
  {
   "cell_type": "code",
   "execution_count": 8,
   "metadata": {},
   "outputs": [],
   "source": [
    "class SiameseNetwork(nn.Module):\n",
    "    def __init__(self):\n",
    "        super(SiameseNetwork, self).__init__()\n",
    "        \n",
    "        image_size = 128\n",
    "        fc_dropout_prob = 0.5\n",
    "        \n",
    "        self.cnn1 = nn.Sequential(\n",
    "            nn.Conv2d(1, 8, kernel_size=3, padding=1),\n",
    "            nn.MaxPool2d(2, 2),\n",
    "            nn.ReLU(inplace=True),\n",
    "            nn.BatchNorm2d(8),\n",
    "            \n",
    "            nn.Conv2d(8, 16, kernel_size=3, padding=1),\n",
    "            nn.MaxPool2d(2, 2),\n",
    "            nn.ReLU(inplace=True),\n",
    "            nn.BatchNorm2d(16),\n",
    "            \n",
    "            nn.Conv2d(16, 16, kernel_size=3, padding=1),\n",
    "#             nn.MaxPool2d(2, 2),\n",
    "            nn.ReLU(inplace=True),\n",
    "            nn.BatchNorm2d(16),\n",
    "        )\n",
    "\n",
    "        self.fc1 = nn.Sequential(\n",
    "            nn.Linear(16*32*32, 3000),  # flatten here\n",
    "            nn.ReLU(inplace=True),\n",
    "#             nn.Dropout(p=fc_dropout_prob),\n",
    "\n",
    "#             nn.Linear(2000, 128),\n",
    "#             nn.ReLU(inplace=True),\n",
    "#             nn.Dropout(p=fc_dropout_prob),\n",
    "\n",
    "            nn.Linear(3000, 500))  # change this output dimension later\n",
    "\n",
    "    def forward_once(self, x):\n",
    "        output = self.cnn1(x)\n",
    "        output = output.view(output.size()[0], -1)\n",
    "        output = self.fc1(output)\n",
    "        return output\n",
    "\n",
    "    def forward(self, input1, input2):\n",
    "        output1 = self.forward_once(input1)\n",
    "        output2 = self.forward_once(input2)\n",
    "        return output1, output2"
   ]
  },
  {
   "cell_type": "markdown",
   "metadata": {},
   "source": [
    "## Contrastive Loss"
   ]
  },
  {
   "cell_type": "code",
   "execution_count": 9,
   "metadata": {},
   "outputs": [],
   "source": [
    "class ContrastiveLoss(torch.nn.Module):\n",
    "    \"\"\"\n",
    "    Contrastive loss function.\n",
    "    Based on: http://yann.lecun.com/exdb/publis/pdf/hadsell-chopra-lecun-06.pdf\n",
    "    \"\"\"\n",
    "\n",
    "    def __init__(self, margin=2.0):\n",
    "        super(ContrastiveLoss, self).__init__()\n",
    "        self.margin = margin\n",
    "\n",
    "    def forward(self, output1, output2, label):\n",
    "        euclidean_distance = F.pairwise_distance(output1, output2, keepdim = True)\n",
    "        loss_contrastive = torch.mean((1-label) * torch.pow(euclidean_distance, 2) +\n",
    "                                      (label) * torch.pow(torch.clamp(self.margin - euclidean_distance, min=0.0), 2))\n",
    "\n",
    "\n",
    "        return loss_contrastive"
   ]
  },
  {
   "cell_type": "markdown",
   "metadata": {},
   "source": [
    "## Training Time!"
   ]
  },
  {
   "cell_type": "code",
   "execution_count": 12,
   "metadata": {},
   "outputs": [],
   "source": [
    "train_dataloader = DataLoader(train_dataset,\n",
    "                        shuffle=True,\n",
    "                        num_workers=8,\n",
    "                        batch_size=Config.train_batch_size)\n",
    "val_dataloader = DataLoader(val_dataset,\n",
    "                        shuffle=True,\n",
    "                        num_workers=8,\n",
    "                        batch_size=Config.train_batch_size)"
   ]
  },
  {
   "cell_type": "code",
   "execution_count": 13,
   "metadata": {},
   "outputs": [],
   "source": [
    "net = SiameseNetwork()\n",
    "\n",
    "if torch.cuda.is_available():\n",
    "    net = SiameseNetwork().cuda()\n",
    "    \n",
    "criterion = ContrastiveLoss()\n",
    "optimizer = optim.Adam(net.parameters(), lr = 0.0005, weight_decay=1e-5)"
   ]
  },
  {
   "cell_type": "code",
   "execution_count": 14,
   "metadata": {},
   "outputs": [],
   "source": [
    "counter = []\n",
    "loss_history = [] \n",
    "iteration_number= 0"
   ]
  },
  {
   "cell_type": "markdown",
   "metadata": {},
   "source": [
    "# Save model dir here"
   ]
  },
  {
   "cell_type": "code",
   "execution_count": 15,
   "metadata": {},
   "outputs": [],
   "source": [
    "# make saved_model root\n",
    "saved_models_dir = './saved_models'\n",
    "if not os.path.exists(saved_models_dir):\n",
    "    os.mkdir(saved_models_dir)"
   ]
  },
  {
   "cell_type": "markdown",
   "metadata": {},
   "source": [
    "# Start training loop"
   ]
  },
  {
   "cell_type": "code",
   "execution_count": 16,
   "metadata": {
    "scrolled": true
   },
   "outputs": [
    {
     "name": "stdout",
     "output_type": "stream",
     "text": [
      "Epoch 0, step 0/63, loss 1.986\n",
      "Epoch 0, step 20/63, loss 0.612\n",
      "Epoch 0, step 40/63, loss 0.710\n",
      "Epoch 0, step 60/63, loss 0.404\n",
      "Model improved...saving\n",
      "Epoch 0/60, train loss 0.649, val loss 0.523\n",
      "Epoch 1, step 0/63, loss 0.500\n",
      "Epoch 1, step 20/63, loss 0.465\n",
      "Epoch 1, step 40/63, loss 0.365\n",
      "Epoch 1, step 60/63, loss 0.380\n",
      "Model improved...saving\n",
      "Epoch 1/60, train loss 0.415, val loss 0.474\n",
      "Epoch 2, step 0/63, loss 0.548\n",
      "Epoch 2, step 20/63, loss 0.330\n",
      "Epoch 2, step 40/63, loss 0.251\n",
      "Epoch 2, step 60/63, loss 0.482\n",
      "Model improved...saving\n",
      "Epoch 2/60, train loss 0.343, val loss 0.438\n",
      "Epoch 3, step 0/63, loss 0.401\n",
      "Epoch 3, step 20/63, loss 0.378\n",
      "Epoch 3, step 40/63, loss 0.284\n",
      "Epoch 3, step 60/63, loss 0.229\n",
      "Model improved...saving\n",
      "Epoch 3/60, train loss 0.306, val loss 0.394\n",
      "Epoch 4, step 0/63, loss 0.226\n",
      "Epoch 4, step 20/63, loss 0.235\n",
      "Epoch 4, step 40/63, loss 0.239\n",
      "Epoch 4, step 60/63, loss 0.205\n",
      "Epoch 4/60, train loss 0.265, val loss 0.399\n",
      "Epoch 5, step 0/63, loss 0.258\n",
      "Epoch 5, step 20/63, loss 0.248\n",
      "Epoch 5, step 40/63, loss 0.271\n",
      "Epoch 5, step 60/63, loss 0.256\n",
      "Model improved...saving\n",
      "Epoch 5/60, train loss 0.245, val loss 0.343\n",
      "Epoch 6, step 0/63, loss 0.280\n",
      "Epoch 6, step 20/63, loss 0.161\n",
      "Epoch 6, step 40/63, loss 0.283\n",
      "Epoch 6, step 60/63, loss 0.206\n",
      "Epoch 6/60, train loss 0.231, val loss 0.398\n",
      "Epoch 7, step 0/63, loss 0.256\n",
      "Epoch 7, step 20/63, loss 0.256\n",
      "Epoch 7, step 40/63, loss 0.228\n",
      "Epoch 7, step 60/63, loss 0.206\n",
      "Epoch 7/60, train loss 0.228, val loss 0.373\n",
      "Epoch 8, step 0/63, loss 0.194\n",
      "Epoch 8, step 20/63, loss 0.183\n",
      "Epoch 8, step 40/63, loss 0.288\n",
      "Epoch 8, step 60/63, loss 0.284\n",
      "Epoch 8/60, train loss 0.208, val loss 0.352\n",
      "Epoch 9, step 0/63, loss 0.203\n",
      "Epoch 9, step 20/63, loss 0.150\n",
      "Epoch 9, step 40/63, loss 0.161\n",
      "Epoch 9, step 60/63, loss 0.226\n",
      "Model improved...saving\n",
      "Epoch 9/60, train loss 0.192, val loss 0.323\n",
      "Epoch 10, step 0/63, loss 0.224\n",
      "Epoch 10, step 20/63, loss 0.228\n",
      "Epoch 10, step 40/63, loss 0.164\n",
      "Epoch 10, step 60/63, loss 0.194\n",
      "Epoch 10/60, train loss 0.182, val loss 0.346\n",
      "Epoch 11, step 0/63, loss 0.179\n",
      "Epoch 11, step 20/63, loss 0.206\n",
      "Epoch 11, step 40/63, loss 0.196\n",
      "Epoch 11, step 60/63, loss 0.125\n",
      "Model improved...saving\n",
      "Epoch 11/60, train loss 0.168, val loss 0.309\n",
      "Epoch 12, step 0/63, loss 0.157\n",
      "Epoch 12, step 20/63, loss 0.142\n",
      "Epoch 12, step 40/63, loss 0.153\n",
      "Epoch 12, step 60/63, loss 0.168\n",
      "Epoch 12/60, train loss 0.163, val loss 0.391\n",
      "Epoch 13, step 0/63, loss 0.164\n",
      "Epoch 13, step 20/63, loss 0.169\n",
      "Epoch 13, step 40/63, loss 0.144\n",
      "Epoch 13, step 60/63, loss 0.176\n",
      "Epoch 13/60, train loss 0.152, val loss 0.323\n",
      "Epoch 14, step 0/63, loss 0.185\n",
      "Epoch 14, step 20/63, loss 0.165\n",
      "Epoch 14, step 40/63, loss 0.125\n",
      "Epoch 14, step 60/63, loss 0.151\n",
      "Epoch 14/60, train loss 0.142, val loss 0.323\n",
      "Epoch 15, step 0/63, loss 0.148\n",
      "Epoch 15, step 20/63, loss 0.139\n",
      "Epoch 15, step 40/63, loss 0.134\n",
      "Epoch 15, step 60/63, loss 0.115\n",
      "Epoch 15/60, train loss 0.141, val loss 0.335\n",
      "Epoch 16, step 0/63, loss 0.186\n",
      "Epoch 16, step 20/63, loss 0.138\n",
      "Epoch 16, step 40/63, loss 0.108\n",
      "Epoch 16, step 60/63, loss 0.109\n",
      "Epoch 16/60, train loss 0.132, val loss 0.335\n",
      "Epoch 17, step 0/63, loss 0.152\n",
      "Epoch 17, step 20/63, loss 0.159\n",
      "Epoch 17, step 40/63, loss 0.153\n",
      "Epoch 17, step 60/63, loss 0.121\n",
      "Epoch 17/60, train loss 0.134, val loss 0.346\n",
      "Epoch 18, step 0/63, loss 0.149\n",
      "Epoch 18, step 20/63, loss 0.084\n",
      "Epoch 18, step 40/63, loss 0.104\n",
      "Epoch 18, step 60/63, loss 0.121\n",
      "Epoch 18/60, train loss 0.128, val loss 0.317\n",
      "Epoch 19, step 0/63, loss 0.153\n",
      "Epoch 19, step 20/63, loss 0.137\n",
      "Epoch 19, step 40/63, loss 0.151\n",
      "Epoch 19, step 60/63, loss 0.106\n",
      "Epoch 19/60, train loss 0.130, val loss 0.350\n",
      "Epoch 20, step 0/63, loss 0.158\n",
      "Epoch 20, step 20/63, loss 0.134\n",
      "Epoch 20, step 40/63, loss 0.079\n",
      "Epoch 20, step 60/63, loss 0.116\n",
      "Epoch 20/60, train loss 0.124, val loss 0.355\n",
      "Epoch 21, step 0/63, loss 0.111\n",
      "Epoch 21, step 20/63, loss 0.155\n",
      "Epoch 21, step 40/63, loss 0.129\n",
      "Epoch 21, step 60/63, loss 0.135\n",
      "Epoch 21/60, train loss 0.118, val loss 0.359\n",
      "Epoch 22, step 0/63, loss 0.104\n",
      "Epoch 22, step 20/63, loss 0.106\n",
      "Epoch 22, step 40/63, loss 0.185\n",
      "Epoch 22, step 60/63, loss 0.096\n",
      "Epoch 22/60, train loss 0.115, val loss 0.352\n",
      "Epoch 23, step 0/63, loss 0.104\n",
      "Epoch 23, step 20/63, loss 0.137\n",
      "Epoch 23, step 40/63, loss 0.135\n",
      "Epoch 23, step 60/63, loss 0.076\n",
      "Epoch 23/60, train loss 0.119, val loss 0.343\n",
      "Epoch 24, step 0/63, loss 0.147\n",
      "Epoch 24, step 20/63, loss 0.120\n",
      "Epoch 24, step 40/63, loss 0.108\n",
      "Epoch 24, step 60/63, loss 0.074\n",
      "Epoch 24/60, train loss 0.106, val loss 0.324\n",
      "Epoch 25, step 0/63, loss 0.129\n",
      "Epoch 25, step 20/63, loss 0.143\n",
      "Epoch 25, step 40/63, loss 0.108\n",
      "Epoch 25, step 60/63, loss 0.109\n",
      "Epoch 25/60, train loss 0.110, val loss 0.392\n",
      "Epoch 26, step 0/63, loss 0.114\n",
      "Epoch 26, step 20/63, loss 0.098\n",
      "Epoch 26, step 40/63, loss 0.157\n",
      "Epoch 26, step 60/63, loss 0.071\n",
      "Epoch 26/60, train loss 0.114, val loss 0.354\n",
      "Epoch 27, step 0/63, loss 0.176\n",
      "Epoch 27, step 20/63, loss 0.070\n",
      "Epoch 27, step 40/63, loss 0.099\n",
      "Epoch 27, step 60/63, loss 0.111\n",
      "Epoch 27/60, train loss 0.105, val loss 0.373\n",
      "Epoch 28, step 0/63, loss 0.083\n",
      "Epoch 28, step 20/63, loss 0.098\n"
     ]
    },
    {
     "name": "stderr",
     "output_type": "stream",
     "text": [
      "Traceback (most recent call last):\n",
      "  File \"/anaconda3/envs/py36/lib/python3.6/multiprocessing/queues.py\", line 240, in _feed\n",
      "    send_bytes(obj)\n",
      "  File \"/anaconda3/envs/py36/lib/python3.6/multiprocessing/connection.py\", line 200, in send_bytes\n",
      "    self._send_bytes(m[offset:offset + size])\n",
      "  File \"/anaconda3/envs/py36/lib/python3.6/multiprocessing/connection.py\", line 404, in _send_bytes\n",
      "    self._send(header + buf)\n",
      "  File \"/anaconda3/envs/py36/lib/python3.6/multiprocessing/connection.py\", line 368, in _send\n",
      "    n = write(self._handle, buf)\n",
      "BrokenPipeError: [Errno 32] Broken pipe\n",
      "Traceback (most recent call last):\n",
      "  File \"/anaconda3/envs/py36/lib/python3.6/multiprocessing/queues.py\", line 240, in _feed\n",
      "    send_bytes(obj)\n",
      "  File \"/anaconda3/envs/py36/lib/python3.6/multiprocessing/connection.py\", line 200, in send_bytes\n",
      "    self._send_bytes(m[offset:offset + size])\n",
      "  File \"/anaconda3/envs/py36/lib/python3.6/multiprocessing/connection.py\", line 404, in _send_bytes\n",
      "    self._send(header + buf)\n",
      "  File \"/anaconda3/envs/py36/lib/python3.6/multiprocessing/connection.py\", line 368, in _send\n",
      "    n = write(self._handle, buf)\n",
      "BrokenPipeError: [Errno 32] Broken pipe\n",
      "Traceback (most recent call last):\n",
      "Traceback (most recent call last):\n",
      "  File \"/anaconda3/envs/py36/lib/python3.6/multiprocessing/queues.py\", line 240, in _feed\n",
      "    send_bytes(obj)\n",
      "  File \"/anaconda3/envs/py36/lib/python3.6/multiprocessing/connection.py\", line 200, in send_bytes\n",
      "    self._send_bytes(m[offset:offset + size])\n",
      "  File \"/anaconda3/envs/py36/lib/python3.6/multiprocessing/connection.py\", line 404, in _send_bytes\n",
      "    self._send(header + buf)\n",
      "  File \"/anaconda3/envs/py36/lib/python3.6/multiprocessing/connection.py\", line 368, in _send\n",
      "    n = write(self._handle, buf)\n",
      "BrokenPipeError: [Errno 32] Broken pipe\n",
      "Traceback (most recent call last):\n",
      "  File \"/anaconda3/envs/py36/lib/python3.6/multiprocessing/queues.py\", line 240, in _feed\n",
      "    send_bytes(obj)\n",
      "  File \"/anaconda3/envs/py36/lib/python3.6/multiprocessing/connection.py\", line 200, in send_bytes\n",
      "    self._send_bytes(m[offset:offset + size])\n",
      "  File \"/anaconda3/envs/py36/lib/python3.6/multiprocessing/connection.py\", line 404, in _send_bytes\n",
      "    self._send(header + buf)\n",
      "  File \"/anaconda3/envs/py36/lib/python3.6/multiprocessing/connection.py\", line 368, in _send\n",
      "    n = write(self._handle, buf)\n",
      "BrokenPipeError: [Errno 32] Broken pipe\n",
      "Traceback (most recent call last):\n",
      "  File \"/anaconda3/envs/py36/lib/python3.6/multiprocessing/queues.py\", line 240, in _feed\n",
      "    send_bytes(obj)\n",
      "  File \"/anaconda3/envs/py36/lib/python3.6/multiprocessing/connection.py\", line 200, in send_bytes\n",
      "    self._send_bytes(m[offset:offset + size])\n",
      "  File \"/anaconda3/envs/py36/lib/python3.6/multiprocessing/connection.py\", line 404, in _send_bytes\n",
      "    self._send(header + buf)\n",
      "  File \"/anaconda3/envs/py36/lib/python3.6/multiprocessing/connection.py\", line 368, in _send\n",
      "    n = write(self._handle, buf)\n",
      "BrokenPipeError: [Errno 32] Broken pipe\n",
      "  File \"/anaconda3/envs/py36/lib/python3.6/multiprocessing/queues.py\", line 240, in _feed\n",
      "    send_bytes(obj)\n",
      "  File \"/anaconda3/envs/py36/lib/python3.6/multiprocessing/connection.py\", line 200, in send_bytes\n",
      "    self._send_bytes(m[offset:offset + size])\n",
      "  File \"/anaconda3/envs/py36/lib/python3.6/multiprocessing/connection.py\", line 404, in _send_bytes\n",
      "    self._send(header + buf)\n",
      "  File \"/anaconda3/envs/py36/lib/python3.6/multiprocessing/connection.py\", line 368, in _send\n",
      "    n = write(self._handle, buf)\n",
      "BrokenPipeError: [Errno 32] Broken pipe\n",
      "Traceback (most recent call last):\n",
      "  File \"/anaconda3/envs/py36/lib/python3.6/multiprocessing/queues.py\", line 240, in _feed\n",
      "    send_bytes(obj)\n",
      "  File \"/anaconda3/envs/py36/lib/python3.6/multiprocessing/connection.py\", line 200, in send_bytes\n",
      "    self._send_bytes(m[offset:offset + size])\n",
      "  File \"/anaconda3/envs/py36/lib/python3.6/multiprocessing/connection.py\", line 404, in _send_bytes\n",
      "    self._send(header + buf)\n",
      "  File \"/anaconda3/envs/py36/lib/python3.6/multiprocessing/connection.py\", line 368, in _send\n",
      "    n = write(self._handle, buf)\n",
      "BrokenPipeError: [Errno 32] Broken pipe\n"
     ]
    },
    {
     "ename": "KeyboardInterrupt",
     "evalue": "",
     "output_type": "error",
     "traceback": [
      "\u001b[0;31m---------------------------------------------------------------------------\u001b[0m",
      "\u001b[0;31mKeyboardInterrupt\u001b[0m                         Traceback (most recent call last)",
      "\u001b[0;32m<ipython-input-16-3ae2f41eb3e8>\u001b[0m in \u001b[0;36m<module>\u001b[0;34m\u001b[0m\n\u001b[1;32m     23\u001b[0m         \u001b[0mtrain_running_batch_loss\u001b[0m \u001b[0;34m+=\u001b[0m \u001b[0mtrain_loss\u001b[0m\u001b[0;34m.\u001b[0m\u001b[0mitem\u001b[0m\u001b[0;34m(\u001b[0m\u001b[0;34m)\u001b[0m  \u001b[0;31m# add to running loss\u001b[0m\u001b[0;34m\u001b[0m\u001b[0;34m\u001b[0m\u001b[0m\n\u001b[1;32m     24\u001b[0m         \u001b[0mtrain_loss\u001b[0m\u001b[0;34m.\u001b[0m\u001b[0mbackward\u001b[0m\u001b[0;34m(\u001b[0m\u001b[0;34m)\u001b[0m  \u001b[0;31m# backprop\u001b[0m\u001b[0;34m\u001b[0m\u001b[0;34m\u001b[0m\u001b[0m\n\u001b[0;32m---> 25\u001b[0;31m         \u001b[0moptimizer\u001b[0m\u001b[0;34m.\u001b[0m\u001b[0mstep\u001b[0m\u001b[0;34m(\u001b[0m\u001b[0;34m)\u001b[0m  \u001b[0;31m# take step forward\u001b[0m\u001b[0;34m\u001b[0m\u001b[0;34m\u001b[0m\u001b[0m\n\u001b[0m\u001b[1;32m     26\u001b[0m \u001b[0;34m\u001b[0m\u001b[0m\n\u001b[1;32m     27\u001b[0m         \u001b[0;32mif\u001b[0m \u001b[0mbatch_num\u001b[0m \u001b[0;34m%\u001b[0m \u001b[0;36m20\u001b[0m \u001b[0;34m==\u001b[0m \u001b[0;36m0\u001b[0m \u001b[0;34m:\u001b[0m\u001b[0;34m\u001b[0m\u001b[0;34m\u001b[0m\u001b[0m\n",
      "\u001b[0;32m/anaconda3/envs/py36/lib/python3.6/site-packages/torch/optim/adam.py\u001b[0m in \u001b[0;36mstep\u001b[0;34m(self, closure)\u001b[0m\n\u001b[1;32m    105\u001b[0m                 \u001b[0mstep_size\u001b[0m \u001b[0;34m=\u001b[0m \u001b[0mgroup\u001b[0m\u001b[0;34m[\u001b[0m\u001b[0;34m'lr'\u001b[0m\u001b[0;34m]\u001b[0m \u001b[0;34m*\u001b[0m \u001b[0mmath\u001b[0m\u001b[0;34m.\u001b[0m\u001b[0msqrt\u001b[0m\u001b[0;34m(\u001b[0m\u001b[0mbias_correction2\u001b[0m\u001b[0;34m)\u001b[0m \u001b[0;34m/\u001b[0m \u001b[0mbias_correction1\u001b[0m\u001b[0;34m\u001b[0m\u001b[0;34m\u001b[0m\u001b[0m\n\u001b[1;32m    106\u001b[0m \u001b[0;34m\u001b[0m\u001b[0m\n\u001b[0;32m--> 107\u001b[0;31m                 \u001b[0mp\u001b[0m\u001b[0;34m.\u001b[0m\u001b[0mdata\u001b[0m\u001b[0;34m.\u001b[0m\u001b[0maddcdiv_\u001b[0m\u001b[0;34m(\u001b[0m\u001b[0;34m-\u001b[0m\u001b[0mstep_size\u001b[0m\u001b[0;34m,\u001b[0m \u001b[0mexp_avg\u001b[0m\u001b[0;34m,\u001b[0m \u001b[0mdenom\u001b[0m\u001b[0;34m)\u001b[0m\u001b[0;34m\u001b[0m\u001b[0;34m\u001b[0m\u001b[0m\n\u001b[0m\u001b[1;32m    108\u001b[0m \u001b[0;34m\u001b[0m\u001b[0m\n\u001b[1;32m    109\u001b[0m         \u001b[0;32mreturn\u001b[0m \u001b[0mloss\u001b[0m\u001b[0;34m\u001b[0m\u001b[0;34m\u001b[0m\u001b[0m\n",
      "\u001b[0;31mKeyboardInterrupt\u001b[0m: "
     ]
    }
   ],
   "source": [
    "train_losses = []\n",
    "val_losses = []\n",
    "best_val_loss = None\n",
    "saving_threshold = 1.01\n",
    "\n",
    "for epoch in range(0, Config.train_number_epochs):\n",
    "    \n",
    "    train_running_batch_loss = 0\n",
    "    val_running_batch_loss = 0\n",
    "    \n",
    "    # train loop\n",
    "    net.train()  # put in train mode\n",
    "    for batch_num, batch in enumerate(train_dataloader,0):\n",
    "        img0, img1 , label = batch  # grab the data from batch\n",
    "\n",
    "        # place on cuda if available\n",
    "        if torch.cuda.is_available():\n",
    "            img0, img1, label = img0.cuda(), img1.cuda() , label.cuda()\n",
    "            \n",
    "        optimizer.zero_grad()  # zero grad\n",
    "        output1, output2 = net(img0, img1)  # forward prop\n",
    "        train_loss = criterion(output1, output2, label) # calc loss\n",
    "        train_running_batch_loss += train_loss.item()  # add to running loss\n",
    "        train_loss.backward()  # backprop\n",
    "        optimizer.step()  # take step forward\n",
    "\n",
    "        if batch_num % 20 == 0 :\n",
    "            print(\"Epoch {}, step {}/{}, loss {:.3f}\".format(epoch, batch_num, len(train_dataloader), train_loss.item()))\n",
    "            if img0.shape[0] != Config.train_batch_size:\n",
    "                print('different batch size {}, {}'.format(Config.train_batch_size, img0.shape[0]))\n",
    "    \n",
    "    # append avg loss for the epoch\n",
    "    train_losses.append( train_running_batch_loss / len(train_dataloader) )\n",
    "        \n",
    "    # start val loop\n",
    "    net.eval()  # put in eval mode\n",
    "    with torch.no_grad():  # turn off gradient tracking\n",
    "        for batch_num, batch in enumerate(val_dataloader, 0):\n",
    "            img0, img1, label = batch  # grab the data\n",
    "\n",
    "            # place on cuda if available\n",
    "            if torch.cuda.is_available():\n",
    "                img0, img1 , label = img0.cuda(), img1.cuda() , label.cuda()\n",
    "                \n",
    "            output1, output2 = net(img0, img1)  # forward prop\n",
    "            val_loss = criterion(output1, output2, label) # calc loss\n",
    "            val_running_batch_loss += val_loss.item()\n",
    "\n",
    "    # append avg loss for the epoch      \n",
    "    val_losses.append( val_running_batch_loss / len(val_dataloader) )\n",
    "\n",
    "    # if model improves save\n",
    "    if best_val_loss is None or best_val_loss > (saving_threshold * val_losses[-1]):\n",
    "        print(\"Model improved...saving\")\n",
    "        \n",
    "        model_name = '{}.pth'.format(str(val_losses[-1]))\n",
    "        save_path = os.path.join(saved_models_dir, model_name)\n",
    "        torch.save(net.state_dict(), save_path)\n",
    "        best_val_loss = val_losses[-1]\n",
    "                    \n",
    "    # print stats on epoch (print the last value appended)\n",
    "    print('Epoch {}/{}, train loss {:.3f}, val loss {:.3f}'.format(epoch, Config.train_number_epochs, train_losses[-1], val_losses[-1]))"
   ]
  },
  {
   "cell_type": "code",
   "execution_count": 17,
   "metadata": {},
   "outputs": [
    {
     "data": {
      "image/png": "[encoded data removed]",
      "text/plain": [
       "<Figure size 432x288 with 2 Axes>"
      ]
     },
     "metadata": {
      "needs_background": "light"
     },
     "output_type": "display_data"
    }
   ],
   "source": [
    "# plot train/val loss\n",
    "show_plot(train_losses, val_losses)"
   ]
  },
  {
   "cell_type": "code",
   "execution_count": null,
   "metadata": {},
   "outputs": [],
   "source": []
  },
  {
   "cell_type": "code",
   "execution_count": null,
   "metadata": {},
   "outputs": [],
   "source": []
  },
  {
   "cell_type": "markdown",
   "metadata": {},
   "source": [
    "# Load weights"
   ]
  },
  {
   "cell_type": "code",
   "execution_count": 10,
   "metadata": {},
   "outputs": [],
   "source": [
    "train_net = SiameseNetwork()"
   ]
  },
  {
   "cell_type": "code",
   "execution_count": 11,
   "metadata": {},
   "outputs": [],
   "source": [
    "PATH = './saved_models/0.3092366782948375.pth'"
   ]
  },
  {
   "cell_type": "code",
   "execution_count": 12,
   "metadata": {},
   "outputs": [
    {
     "data": {
      "text/plain": [
       "IncompatibleKeys(missing_keys=[], unexpected_keys=[])"
      ]
     },
     "execution_count": 12,
     "metadata": {},
     "output_type": "execute_result"
    }
   ],
   "source": [
    "train_net.load_state_dict(torch.load(PATH))"
   ]
  },
  {
   "cell_type": "markdown",
   "metadata": {},
   "source": [
    "# Display a batch with similarity score"
   ]
  },
  {
   "cell_type": "code",
   "execution_count": 61,
   "metadata": {},
   "outputs": [
    {
     "name": "stdout",
     "output_type": "stream",
     "text": [
      "tensor([[1.]])\n"
     ]
    },
    {
     "data": {
      "image/png": "[encoded data removed]",
      "text/plain": [
       "<Figure size 432x288 with 1 Axes>"
      ]
     },
     "metadata": {
      "needs_background": "light"
     },
     "output_type": "display_data"
    },
    {
     "name": "stdout",
     "output_type": "stream",
     "text": [
      "tensor([[1.]])\n"
     ]
    },
    {
     "data": {
      "image/png": "[encoded data removed]",
      "text/plain": [
       "<Figure size 432x288 with 1 Axes>"
      ]
     },
     "metadata": {
      "needs_background": "light"
     },
     "output_type": "display_data"
    },
    {
     "name": "stdout",
     "output_type": "stream",
     "text": [
      "tensor([[1.]])\n"
     ]
    },
    {
     "data": {
      "image/png": "[encoded data removed]",
      "text/plain": [
       "<Figure size 432x288 with 1 Axes>"
      ]
     },
     "metadata": {
      "needs_background": "light"
     },
     "output_type": "display_data"
    },
    {
     "name": "stdout",
     "output_type": "stream",
     "text": [
      "tensor([[1.]])\n"
     ]
    },
    {
     "data": {
      "image/png": "[encoded data removed]",
      "text/plain": [
       "<Figure size 432x288 with 1 Axes>"
      ]
     },
     "metadata": {
      "needs_background": "light"
     },
     "output_type": "display_data"
    },
    {
     "name": "stdout",
     "output_type": "stream",
     "text": [
      "tensor([[1.]])\n"
     ]
    },
    {
     "data": {
      "image/png": "[encoded data removed]",
      "text/plain": [
       "<Figure size 432x288 with 1 Axes>"
      ]
     },
     "metadata": {
      "needs_background": "light"
     },
     "output_type": "display_data"
    },
    {
     "name": "stdout",
     "output_type": "stream",
     "text": [
      "tensor([[1.]])\n"
     ]
    },
    {
     "data": {
      "image/png": "[encoded data removed]",
      "text/plain": [
       "<Figure size 432x288 with 1 Axes>"
      ]
     },
     "metadata": {
      "needs_background": "light"
     },
     "output_type": "display_data"
    },
    {
     "name": "stdout",
     "output_type": "stream",
     "text": [
      "tensor([[0.]])\n"
     ]
    },
    {
     "data": {
      "image/png": "[encoded data removed]",
      "text/plain": [
       "<Figure size 432x288 with 1 Axes>"
      ]
     },
     "metadata": {
      "needs_background": "light"
     },
     "output_type": "display_data"
    },
    {
     "name": "stdout",
     "output_type": "stream",
     "text": [
      "tensor([[0.]])\n"
     ]
    },
    {
     "data": {
      "image/png": "[encoded data removed]",
      "text/plain": [
       "<Figure size 432x288 with 1 Axes>"
      ]
     },
     "metadata": {
      "needs_background": "light"
     },
     "output_type": "display_data"
    },
    {
     "name": "stdout",
     "output_type": "stream",
     "text": [
      "tensor([[0.]])\n"
     ]
    },
    {
     "data": {
      "image/png": "[encoded data removed]",
      "text/plain": [
       "<Figure size 432x288 with 1 Axes>"
      ]
     },
     "metadata": {
      "needs_background": "light"
     },
     "output_type": "display_data"
    },
    {
     "name": "stdout",
     "output_type": "stream",
     "text": [
      "tensor([[1.]])\n"
     ]
    },
    {
     "data": {
      "image/png": "[encoded data removed]",
      "text/plain": [
       "<Figure size 432x288 with 1 Axes>"
      ]
     },
     "metadata": {
      "needs_background": "light"
     },
     "output_type": "display_data"
    }
   ],
   "source": [
    "display_dataloader = DataLoader(test_dataset, num_workers=6, batch_size=1, shuffle=True)\n",
    "\n",
    "for i in range(10):\n",
    "    x0,x1,label2 = next(iter(display_dataloader))\n",
    "    concatenated = torch.cat((x0,x1),0)\n",
    "    \n",
    "    if torch.cuda.is_available():\n",
    "        output1,output2 = train_net(Variable(x0).cuda(),Variable(x1).cuda())\n",
    "    else:\n",
    "        output1,output2 = train_net(Variable(x0),Variable(x1))\n",
    "    \n",
    "    print(label2)\n",
    "    euclidean_distance = F.pairwise_distance(output1, output2)\n",
    "    imshow(torchvision.utils.make_grid(concatenated),'Dissimilarity: {:.2f}'.format(euclidean_distance.item()))"
   ]
  },
  {
   "cell_type": "markdown",
   "metadata": {},
   "source": [
    "# Evaluate on test data"
   ]
  },
  {
   "cell_type": "code",
   "execution_count": 88,
   "metadata": {
    "run_control": {
     "marked": true
    }
   },
   "outputs": [
    {
     "name": "stdout",
     "output_type": "stream",
     "text": [
      "Similar font accuracy 86.67%\n",
      "Different font accuracy 94.12%\n",
      "Similar font accuracy 90.32%\n",
      "Different font accuracy 75.76%\n",
      "Similar font accuracy 76.67%\n",
      "Different font accuracy 97.06%\n",
      "Similar font accuracy 86.49%\n",
      "Different font accuracy 85.19%\n",
      "Similar font accuracy 75.68%\n",
      "Different font accuracy 92.59%\n",
      "Similar font accuracy 82.76%\n",
      "Different font accuracy 82.86%\n",
      "Similar font accuracy 81.82%\n",
      "Different font accuracy 83.87%\n",
      "Similar font accuracy 93.10%\n",
      "Different font accuracy 91.43%\n",
      "Similar font accuracy 89.29%\n",
      "Different font accuracy 91.67%\n",
      "Similar font accuracy 78.12%\n",
      "Different font accuracy 96.88%\n",
      "Similar font accuracy 83.33%\n",
      "Different font accuracy 94.12%\n",
      "Similar font accuracy 81.08%\n",
      "Different font accuracy 96.30%\n",
      "Similar font accuracy 71.88%\n",
      "Different font accuracy 93.75%\n",
      "Similar font accuracy 88.89%\n",
      "Different font accuracy 89.29%\n",
      "Similar font accuracy 80.65%\n",
      "Different font accuracy 93.94%\n",
      "Similar font accuracy 81.25%\n",
      "Different font accuracy 78.12%\n",
      "Similar font accuracy 83.33%\n",
      "Different font accuracy 87.50%\n",
      "Similar font accuracy 93.33%\n",
      "Different font accuracy 85.29%\n",
      "Similar font accuracy 83.87%\n",
      "Different font accuracy 84.85%\n",
      "Similar font accuracy 88.89%\n",
      "Different font accuracy 75.68%\n",
      "Similar font accuracy 73.33%\n",
      "Different font accuracy 85.29%\n",
      "Similar font accuracy 77.78%\n",
      "Different font accuracy 96.43%\n",
      "Similar font accuracy 75.86%\n",
      "Different font accuracy 94.29%\n",
      "Similar font accuracy 86.67%\n",
      "Different font accuracy 92.31%\n"
     ]
    }
   ],
   "source": [
    "# set threshold for true and false matches (over this value is false)\n",
    "threshold = 0.94\n",
    "batch_size = 64\n",
    "true_accs = []\n",
    "false_accs = []\n",
    "\n",
    "test_dataloader = DataLoader(test_dataset, num_workers=6, batch_size=batch_size, shuffle=True)\n",
    "\n",
    "for batch_num, batch in enumerate(test_dataloader):\n",
    "\n",
    "    # track number correct for each class\n",
    "    true_correct = 0\n",
    "    false_correct = 0\n",
    "    \n",
    "    false_wrong = 0\n",
    "    true_wrong = 0\n",
    "    \n",
    "    # retrieve batch data\n",
    "    x0, x1, labels = batch\n",
    "    \n",
    "    if torch.cuda.is_available():\n",
    "        output0, output1 = train_net(Variable(x0).cuda(),Variable(x1).cuda())\n",
    "    else:\n",
    "        output0, output1 = train_net(Variable(x0),Variable(x1))\n",
    "        \n",
    "    euclidean_distance = F.pairwise_distance(output0, output1)\n",
    "    \n",
    "    # create an array of size batch, of threshold\n",
    "    thresh_array = np.asarray(euclidean_distance.shape[0] * [threshold])\n",
    "    \n",
    "    # check if over threshold\n",
    "#     pred_bools = np.less(euclidean_distance.data.cpu().numpy(), thresh_array)\n",
    "    \n",
    "    # calc counts for each class\n",
    "    false_count = 0\n",
    "    true_count =  0\n",
    "    \n",
    "#     print('false {} and true {} counts'.format(false_count, true_count))\n",
    "    \n",
    "    preds = []\n",
    "\n",
    "    for j in range(euclidean_distance.shape[0]):\n",
    "\n",
    "        if euclidean_distance[j] < threshold:\n",
    "            preds.append(0)\n",
    "        else:\n",
    "            preds.append(1)\n",
    "\n",
    "#     print('len preds', len(preds))\n",
    "    \n",
    "    # loop thru all labels \n",
    "    for i in range(labels.shape[0]):\n",
    "        \n",
    "        label = int(labels[i].item())\n",
    "        pred = preds[i]\n",
    "\n",
    "        # track false match predictions\n",
    "        if label == 1:\n",
    "            false_count += 1\n",
    "            # if pred is false, and label is false, add 1\n",
    "            if pred == label:\n",
    "                false_correct += 1\n",
    "#                 print('pred == label!!  and label is 1')\n",
    "            else:\n",
    "                false_wrong += 1\n",
    "        # false match\n",
    "        else:\n",
    "            true_count += 1\n",
    "            # if pred is true, and label is true, add 1\n",
    "            if pred == label:\n",
    "                true_correct += 1\n",
    "#                 print('pred == label!!  and label is 0')\n",
    "\n",
    "            else:\n",
    "                true_wrong += 1\n",
    "                \n",
    "#     print('true correct count', true_correct)\n",
    "#     print('true wrong count', true_wrong)\n",
    "#     print('true count total', true_count)\n",
    "\n",
    "#     print('false correct count', false_correct)\n",
    "#     print('false wrong count', false_wrong)\n",
    "#     print('false count total', false_count)\n",
    "                \n",
    "    true_match_acc = (true_correct / true_count)*100 \n",
    "    false_match_acc = (false_correct / false_count)*100\n",
    "        \n",
    "    print('Similar font accuracy {:.2f}%'.format(true_match_acc))\n",
    "    print('Different font accuracy {:.2f}%'.format(false_match_acc))\n",
    "            \n",
    "    # append acc for this batch\n",
    "    true_accs.append(true_match_acc)\n",
    "    false_accs.append(false_match_acc)\n",
    "    "
   ]
  },
  {
   "cell_type": "code",
   "execution_count": 92,
   "metadata": {},
   "outputs": [
    {
     "name": "stdout",
     "output_type": "stream",
     "text": [
      "82.96036982685344\n"
     ]
    }
   ],
   "source": [
    "avg_true_acc = sum(true_accs) / len(true_accs)\n",
    "print(avg_true_acc)"
   ]
  },
  {
   "cell_type": "code",
   "execution_count": 93,
   "metadata": {},
   "outputs": [
    {
     "name": "stdout",
     "output_type": "stream",
     "text": [
      "89.10660825993288\n"
     ]
    }
   ],
   "source": [
    "avg_false_acc = sum(false_accs) / len(false_accs)\n",
    "print(avg_false_acc)"
   ]
  },
  {
   "cell_type": "code",
   "execution_count": 94,
   "metadata": {},
   "outputs": [],
   "source": [
    "overall = (avg_true_acc + avg_false_acc) / 2"
   ]
  },
  {
   "cell_type": "code",
   "execution_count": 95,
   "metadata": {},
   "outputs": [
    {
     "data": {
      "text/plain": [
       "86.03348904339316"
      ]
     },
     "execution_count": 95,
     "metadata": {},
     "output_type": "execute_result"
    }
   ],
   "source": [
    "overall"
   ]
  },
  {
   "cell_type": "code",
   "execution_count": null,
   "metadata": {},
   "outputs": [],
   "source": []
  },
  {
   "cell_type": "code",
   "execution_count": null,
   "metadata": {},
   "outputs": [],
   "source": []
  },
  {
   "cell_type": "code",
   "execution_count": null,
   "metadata": {},
   "outputs": [],
   "source": []
  }
 ],
 "metadata": {
  "hide_input": false,
  "kernelspec": {
   "display_name": "Python 3",
   "language": "python",
   "name": "python3"
  },
  "language_info": {
   "codemirror_mode": {
    "name": "ipython",
    "version": 3
   },
   "file_extension": ".py",
   "mimetype": "text/x-python",
   "name": "python",
   "nbconvert_exporter": "python",
   "pygments_lexer": "ipython3",
   "version": "3.6.8"
  }
 },
 "nbformat": 4,
 "nbformat_minor": 2
}
