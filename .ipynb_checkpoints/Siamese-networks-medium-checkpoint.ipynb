{
 "cells": [
  {
   "cell_type": "markdown",
   "metadata": {},
   "source": [
    "# One Shot Learning with Siamese Networks\n",
    "\n",
    "This is the jupyter notebook that accompanies"
   ]
  },
  {
   "cell_type": "markdown",
   "metadata": {},
   "source": [
    "## Imports\n",
    "All the imports are defined here"
   ]
  },
  {
   "cell_type": "code",
   "execution_count": 1,
   "metadata": {},
   "outputs": [],
   "source": [
    "%matplotlib inline\n",
    "import torchvision\n",
    "import torchvision.datasets as dset\n",
    "import torchvision.transforms as transforms\n",
    "from torch.utils.data import DataLoader,Dataset\n",
    "import matplotlib.pyplot as plt\n",
    "import torchvision.utils\n",
    "import numpy as np\n",
    "import random\n",
    "from PIL import Image\n",
    "import torch\n",
    "from torch.autograd import Variable\n",
    "import PIL.ImageOps    \n",
    "import torch.nn as nn\n",
    "from torch import optim\n",
    "import torch.nn.functional as F\n",
    "from siamese_dataset import SiameseDataset\n",
    "import os"
   ]
  },
  {
   "cell_type": "markdown",
   "metadata": {},
   "source": [
    "## Helper functions\n",
    "Set of helper functions"
   ]
  },
  {
   "cell_type": "code",
   "execution_count": 2,
   "metadata": {},
   "outputs": [],
   "source": [
    "def imshow(img,text=None,should_save=False):\n",
    "    npimg = img.numpy()\n",
    "    plt.axis(\"off\")\n",
    "    if text:\n",
    "        plt.text(75, 8, text, style='italic',fontweight='bold',\n",
    "            bbox={'facecolor':'white', 'alpha':0.8, 'pad':10})\n",
    "    plt.imshow(np.transpose(npimg, (1, 2, 0)))\n",
    "    plt.show()    \n",
    "\n",
    "def show_plot(train_losses, val_losses):\n",
    "    \n",
    "    x = list(range(len(train_losses)))\n",
    "    fig, (ax1, ax2) = plt.subplots(2)\n",
    "    fig.suptitle('Train and Val Losses')\n",
    "    ax1.plot(x, train_losses)\n",
    "    ax2.plot(x, val_losses)\n",
    "    plt.savefig('train_val_loss.png')\n",
    "    plt.show()"
   ]
  },
  {
   "cell_type": "markdown",
   "metadata": {},
   "source": [
    "## Configuration Class\n",
    "A simple class to manage configuration"
   ]
  },
  {
   "cell_type": "code",
   "execution_count": 3,
   "metadata": {},
   "outputs": [],
   "source": [
    "class Config():\n",
    "    training_dir = \"./address_gram_images/train/\"\n",
    "    val_dir = \"./address_gram_images/val/\"\n",
    "    test_dir = \"./address_gram_images/test/\"\n",
    "    \n",
    "    train_batch_size = 64\n",
    "    train_number_epochs = 60"
   ]
  },
  {
   "cell_type": "markdown",
   "metadata": {},
   "source": [
    "## Custom Dataset Class\n",
    "This dataset generates a pair of images. 0 for geniune pair and 1 for imposter pair"
   ]
  },
  {
   "cell_type": "markdown",
   "metadata": {},
   "source": [
    "## Using Image Folder Dataset"
   ]
  },
  {
   "cell_type": "code",
   "execution_count": 4,
   "metadata": {},
   "outputs": [],
   "source": [
    "# create image folder objects\n",
    "train_folder = dset.ImageFolder(root=Config.training_dir)\n",
    "val_folder = dset.ImageFolder(root=Config.val_dir)\n",
    "test_folder = dset.ImageFolder(root=Config.test_dir)"
   ]
  },
  {
   "cell_type": "code",
   "execution_count": 5,
   "metadata": {},
   "outputs": [],
   "source": [
    "# define transforms\n",
    "image_size = 64\n",
    "\n",
    "transform_all = transforms.Compose([transforms.Resize((image_size, image_size)),\n",
    "                                    transforms.ToTensor()] )  # can potentially change these vals"
   ]
  },
  {
   "cell_type": "markdown",
   "metadata": {},
   "source": [
    "# create dataset objects"
   ]
  },
  {
   "cell_type": "code",
   "execution_count": 6,
   "metadata": {},
   "outputs": [],
   "source": [
    "train_dataset = SiameseDataset(imageFolderDataset=train_folder,\n",
    "                                        transform=transform_all,\n",
    "                                       should_invert=False)\n",
    "val_dataset = SiameseDataset(imageFolderDataset=val_folder,\n",
    "                                        transform=transform_all,\n",
    "                                       should_invert=False)\n",
    "test_dataset = SiameseDataset(imageFolderDataset=test_folder,\n",
    "                                        transform=transform_all,\n",
    "                                       should_invert=False)"
   ]
  },
  {
   "cell_type": "markdown",
   "metadata": {},
   "source": [
    "## Visualising some of the data\n",
    "The top row and the bottom row of any column is one pair. The 0s and 1s correspond to the column of the image.\n",
    "1 indiciates dissimilar, and 0 indicates similar."
   ]
  },
  {
   "cell_type": "code",
   "execution_count": 7,
   "metadata": {},
   "outputs": [
    {
     "data": {
      "image/png": "[encoded data removed]",
      "text/plain": [
       "<Figure size 432x288 with 1 Axes>"
      ]
     },
     "metadata": {
      "needs_background": "light"
     },
     "output_type": "display_data"
    },
    {
     "name": "stdout",
     "output_type": "stream",
     "text": [
      "[[1.]\n",
      " [1.]\n",
      " [0.]\n",
      " [0.]\n",
      " [1.]\n",
      " [1.]\n",
      " [0.]\n",
      " [0.]]\n"
     ]
    }
   ],
   "source": [
    "vis_dataloader = DataLoader(train_dataset,\n",
    "                        shuffle=True,\n",
    "                        num_workers=8,\n",
    "                        batch_size=8)\n",
    "dataiter = iter(vis_dataloader)\n",
    "\n",
    "\n",
    "example_batch = next(dataiter)\n",
    "concatenated = torch.cat((example_batch[0],example_batch[1]),0)\n",
    "imshow(torchvision.utils.make_grid(concatenated))\n",
    "print(example_batch[2].numpy())"
   ]
  },
  {
   "cell_type": "markdown",
   "metadata": {
    "collapsed": true
   },
   "source": [
    "## Neural Net Definition\n",
    "We will use a standard convolutional neural network"
   ]
  },
  {
   "cell_type": "code",
   "execution_count": 8,
   "metadata": {},
   "outputs": [],
   "source": [
    "class SiameseNetwork(nn.Module):\n",
    "    def __init__(self):\n",
    "        super(SiameseNetwork, self).__init__()\n",
    "        \n",
    "        image_size = 64\n",
    "        fc_dropout_prob = 0.5\n",
    "        \n",
    "        self.cnn1 = nn.Sequential(\n",
    "            nn.Conv2d(1, 16, kernel_size=3, padding=1),\n",
    "            nn.MaxPool2d(2, 2),\n",
    "            nn.ReLU(inplace=True),\n",
    "            nn.BatchNorm2d(16),\n",
    "            \n",
    "            nn.Conv2d(16, 32, kernel_size=3, padding=1),\n",
    "            nn.MaxPool2d(2, 2),\n",
    "            nn.ReLU(inplace=True),\n",
    "            nn.BatchNorm2d(32),\n",
    "            \n",
    "            nn.Conv2d(32, 64, kernel_size=3, padding=1),\n",
    "            nn.MaxPool2d(2, 2),\n",
    "            nn.ReLU(inplace=True),\n",
    "            nn.BatchNorm2d(64),\n",
    "        )\n",
    "\n",
    "        self.fc1 = nn.Sequential(\n",
    "            nn.Linear(64*8*8, 2000),  # flatten here\n",
    "            nn.ReLU(inplace=True),\n",
    "            nn.Dropout(p=fc_dropout_prob),\n",
    "\n",
    "#             nn.Linear(2000, 128),\n",
    "#             nn.ReLU(inplace=True),\n",
    "#             nn.Dropout(p=fc_dropout_prob),\n",
    "\n",
    "            nn.Linear(2000, 128))  # change this output dimension later\n",
    "\n",
    "    def forward_once(self, x):\n",
    "        output = self.cnn1(x)\n",
    "        output = output.view(output.size()[0], -1)\n",
    "        output = self.fc1(output)\n",
    "        return output\n",
    "\n",
    "    def forward(self, input1, input2):\n",
    "        output1 = self.forward_once(input1)\n",
    "        output2 = self.forward_once(input2)\n",
    "        return output1, output2"
   ]
  },
  {
   "cell_type": "markdown",
   "metadata": {},
   "source": [
    "## Contrastive Loss"
   ]
  },
  {
   "cell_type": "code",
   "execution_count": 9,
   "metadata": {},
   "outputs": [],
   "source": [
    "class ContrastiveLoss(torch.nn.Module):\n",
    "    \"\"\"\n",
    "    Contrastive loss function.\n",
    "    Based on: http://yann.lecun.com/exdb/publis/pdf/hadsell-chopra-lecun-06.pdf\n",
    "    \"\"\"\n",
    "\n",
    "    def __init__(self, margin=2.0):\n",
    "        super(ContrastiveLoss, self).__init__()\n",
    "        self.margin = margin\n",
    "\n",
    "    def forward(self, output1, output2, label):\n",
    "        euclidean_distance = F.pairwise_distance(output1, output2, keepdim = True)\n",
    "        loss_contrastive = torch.mean((1-label) * torch.pow(euclidean_distance, 2) +\n",
    "                                      (label) * torch.pow(torch.clamp(self.margin - euclidean_distance, min=0.0), 2))\n",
    "\n",
    "\n",
    "        return loss_contrastive"
   ]
  },
  {
   "cell_type": "markdown",
   "metadata": {},
   "source": [
    "## Training Time!"
   ]
  },
  {
   "cell_type": "code",
   "execution_count": 10,
   "metadata": {},
   "outputs": [],
   "source": [
    "train_dataloader = DataLoader(train_dataset,\n",
    "                        shuffle=True,\n",
    "                        num_workers=8,\n",
    "                        batch_size=Config.train_batch_size)\n",
    "val_dataloader = DataLoader(val_dataset,\n",
    "                        shuffle=True,\n",
    "                        num_workers=8,\n",
    "                        batch_size=Config.train_batch_size)"
   ]
  },
  {
   "cell_type": "code",
   "execution_count": 11,
   "metadata": {},
   "outputs": [],
   "source": [
    "net = SiameseNetwork()\n",
    "\n",
    "if torch.cuda.is_available():\n",
    "    net = SiameseNetwork().cuda()\n",
    "    \n",
    "criterion = ContrastiveLoss()\n",
    "optimizer = optim.Adam(net.parameters(), lr = 0.0005, weight_decay=1e-5)"
   ]
  },
  {
   "cell_type": "code",
   "execution_count": 12,
   "metadata": {},
   "outputs": [],
   "source": [
    "counter = []\n",
    "loss_history = [] \n",
    "iteration_number= 0"
   ]
  },
  {
   "cell_type": "markdown",
   "metadata": {},
   "source": [
    "# Save model dir here"
   ]
  },
  {
   "cell_type": "code",
   "execution_count": 13,
   "metadata": {},
   "outputs": [],
   "source": [
    "# make saved_model root\n",
    "saved_models_dir = './saved_models'\n",
    "if not os.path.exists(saved_models_dir):\n",
    "    os.mkdir(saved_models_dir)"
   ]
  },
  {
   "cell_type": "markdown",
   "metadata": {},
   "source": [
    "# Start training loop"
   ]
  },
  {
   "cell_type": "code",
   "execution_count": null,
   "metadata": {
    "scrolled": true
   },
   "outputs": [
    {
     "name": "stdout",
     "output_type": "stream",
     "text": [
      "Epoch 0, step 0/63, loss 3.606\n",
      "Epoch 0, step 20/63, loss 1.014\n",
      "Epoch 0, step 40/63, loss 1.074\n",
      "Epoch 0, step 60/63, loss 1.038\n",
      "Model improved...saving\n",
      "Epoch 0, train loss 1.192, val loss 1.630\n",
      "Epoch 1, step 0/63, loss 1.065\n",
      "Epoch 1, step 20/63, loss 1.081\n",
      "Epoch 1, step 40/63, loss 1.032\n",
      "Epoch 1, step 60/63, loss 1.093\n",
      "Model improved...saving\n",
      "Epoch 1, train loss 1.060, val loss 1.557\n",
      "Epoch 2, step 0/63, loss 0.985\n",
      "Epoch 2, step 20/63, loss 1.220\n",
      "Epoch 2, step 40/63, loss 1.015\n",
      "Epoch 2, step 60/63, loss 1.067\n",
      "Epoch 2, train loss 1.065, val loss 1.745\n",
      "Epoch 3, step 0/63, loss 1.037\n",
      "Epoch 3, step 20/63, loss 1.048\n",
      "Epoch 3, step 40/63, loss 1.091\n",
      "Epoch 3, step 60/63, loss 1.118\n",
      "Epoch 3, train loss 1.072, val loss 1.604\n",
      "Epoch 4, step 0/63, loss 1.068\n",
      "Epoch 4, step 20/63, loss 1.053\n",
      "Epoch 4, step 40/63, loss 1.112\n",
      "Epoch 4, step 60/63, loss 1.041\n",
      "Epoch 4, train loss 1.051, val loss 1.575\n",
      "Epoch 5, step 0/63, loss 1.037\n",
      "Epoch 5, step 20/63, loss 1.217\n",
      "Epoch 5, step 40/63, loss 1.102\n",
      "Epoch 5, step 60/63, loss 1.142\n",
      "Epoch 5, train loss 1.072, val loss 1.610\n",
      "Epoch 6, step 0/63, loss 1.126\n",
      "Epoch 6, step 20/63, loss 1.013\n",
      "Epoch 6, step 40/63, loss 1.065\n",
      "Epoch 6, step 60/63, loss 1.035\n",
      "Model improved...saving\n",
      "Epoch 6, train loss 1.058, val loss 1.541\n",
      "Epoch 7, step 0/63, loss 1.013\n",
      "Epoch 7, step 20/63, loss 0.968\n",
      "Epoch 7, step 40/63, loss 0.995\n",
      "Epoch 7, step 60/63, loss 0.984\n",
      "Epoch 7, train loss 1.076, val loss 1.560\n",
      "Epoch 8, step 0/63, loss 1.023\n",
      "Epoch 8, step 20/63, loss 1.071\n",
      "Epoch 8, step 40/63, loss 1.041\n",
      "Epoch 8, step 60/63, loss 1.013\n",
      "Epoch 8, train loss 1.072, val loss 1.580\n",
      "Epoch 9, step 0/63, loss 1.094\n",
      "Epoch 9, step 20/63, loss 1.022\n",
      "Epoch 9, step 40/63, loss 1.143\n",
      "Epoch 9, step 60/63, loss 1.021\n",
      "Epoch 9, train loss 1.064, val loss 1.589\n",
      "Epoch 10, step 0/63, loss 1.061\n",
      "Epoch 10, step 20/63, loss 1.018\n",
      "Epoch 10, step 40/63, loss 1.038\n",
      "Epoch 10, step 60/63, loss 0.996\n",
      "Epoch 10, train loss 1.054, val loss 1.542\n",
      "Epoch 11, step 0/63, loss 1.127\n",
      "Epoch 11, step 20/63, loss 1.032\n",
      "Epoch 11, step 40/63, loss 1.031\n",
      "Epoch 11, step 60/63, loss 1.134\n",
      "Epoch 11, train loss 1.072, val loss 1.548\n",
      "Epoch 12, step 0/63, loss 1.353\n",
      "Epoch 12, step 20/63, loss 1.141\n",
      "Epoch 12, step 40/63, loss 1.180\n",
      "Epoch 12, step 60/63, loss 0.984\n",
      "Epoch 12, train loss 1.061, val loss 1.756\n",
      "Epoch 13, step 0/63, loss 1.133\n",
      "Epoch 13, step 20/63, loss 1.084\n",
      "Epoch 13, step 40/63, loss 1.043\n",
      "Epoch 13, step 60/63, loss 1.079\n",
      "Model improved...saving\n",
      "Epoch 13, train loss 1.054, val loss 1.517\n",
      "Epoch 14, step 0/63, loss 1.043\n",
      "Epoch 14, step 20/63, loss 1.001\n",
      "Epoch 14, step 40/63, loss 1.067\n",
      "Epoch 14, step 60/63, loss 0.935\n",
      "Epoch 14, train loss 1.062, val loss 1.788\n",
      "Epoch 15, step 0/63, loss 1.094\n",
      "Epoch 15, step 20/63, loss 1.087\n",
      "Epoch 15, step 40/63, loss 1.133\n",
      "Epoch 15, step 60/63, loss 1.033\n",
      "Epoch 15, train loss 1.057, val loss 1.813\n",
      "Epoch 16, step 0/63, loss 1.007\n",
      "Epoch 16, step 20/63, loss 1.045\n",
      "Epoch 16, step 40/63, loss 1.045\n",
      "Epoch 16, step 60/63, loss 1.077\n",
      "Epoch 16, train loss 1.045, val loss 1.676\n",
      "Epoch 17, step 0/63, loss 1.041\n",
      "Epoch 17, step 20/63, loss 1.133\n",
      "Epoch 17, step 40/63, loss 1.084\n",
      "Epoch 17, step 60/63, loss 1.024\n",
      "Epoch 17, train loss 1.067, val loss 1.639\n",
      "Epoch 18, step 0/63, loss 1.004\n",
      "Epoch 18, step 20/63, loss 1.048\n",
      "Epoch 18, step 40/63, loss 1.092\n",
      "Epoch 18, step 60/63, loss 1.045\n",
      "Epoch 18, train loss 1.059, val loss 1.639\n",
      "Epoch 19, step 0/63, loss 0.963\n",
      "Epoch 19, step 20/63, loss 1.018\n",
      "Epoch 19, step 40/63, loss 0.977\n",
      "Epoch 19, step 60/63, loss 0.969\n",
      "Epoch 19, train loss 1.044, val loss 1.532\n",
      "Epoch 20, step 0/63, loss 0.995\n",
      "Epoch 20, step 20/63, loss 1.100\n",
      "Epoch 20, step 40/63, loss 1.033\n",
      "Epoch 20, step 60/63, loss 1.015\n",
      "Epoch 20, train loss 1.047, val loss 1.539\n",
      "Epoch 21, step 0/63, loss 1.087\n",
      "Epoch 21, step 20/63, loss 1.138\n",
      "Epoch 21, step 40/63, loss 0.956\n",
      "Epoch 21, step 60/63, loss 1.056\n"
     ]
    }
   ],
   "source": [
    "train_losses = []\n",
    "val_losses = []\n",
    "best_val_loss = None\n",
    "saving_threshold = 1.01\n",
    "\n",
    "for epoch in range(0, Config.train_number_epochs):\n",
    "    \n",
    "    train_running_batch_loss = 0\n",
    "    val_running_batch_loss = 0\n",
    "    \n",
    "    # train loop\n",
    "    net.train()  # put in train mode\n",
    "    for batch_num, batch in enumerate(train_dataloader,0):\n",
    "        img0, img1 , label = batch  # grab the data from batch\n",
    "\n",
    "        # place on cuda if available\n",
    "        if torch.cuda.is_available():\n",
    "            img0, img1, label = img0.cuda(), img1.cuda() , label.cuda()\n",
    "            \n",
    "        optimizer.zero_grad()  # zero grad\n",
    "        output1, output2 = net(img0, img1)  # forward prop\n",
    "        train_loss = criterion(output1, output2, label) # calc loss\n",
    "        train_running_batch_loss += train_loss.item()  # add to running loss\n",
    "        train_loss.backward()  # backprop\n",
    "        optimizer.step()  # take step forward\n",
    "\n",
    "        if batch_num % 20 == 0 :\n",
    "            print(\"Epoch {}, step {}/{}, loss {:.3f}\".format(epoch, batch_num, len(train_dataloader), train_loss.item()))\n",
    "            if img0.shape[0] != Config.train_batch_size:\n",
    "                print('different batch size {}, {}'.format(Config.train_batch_size, img0.shape[0]))\n",
    "    \n",
    "    # append avg loss for the epoch\n",
    "    train_losses.append( train_running_batch_loss / len(train_dataloader) )\n",
    "        \n",
    "    # start val loop\n",
    "    net.eval()  # put in eval mode\n",
    "    with torch.no_grad():  # turn off gradient tracking\n",
    "        for batch_num, batch in enumerate(val_dataloader, 0):\n",
    "            img0, img1, label = batch  # grab the data\n",
    "\n",
    "            # place on cuda if available\n",
    "            if torch.cuda.is_available():\n",
    "                img0, img1 , label = img0.cuda(), img1.cuda() , label.cuda()\n",
    "                \n",
    "            output1, output2 = net(img0, img1)  # forward prop\n",
    "            val_loss = criterion(output1, output2, label) # calc loss\n",
    "            val_running_batch_loss += val_loss.item()\n",
    "\n",
    "    # append avg loss for the epoch      \n",
    "    val_losses.append( val_running_batch_loss / len(val_dataloader) )\n",
    "\n",
    "    # if model improves save\n",
    "    if best_val_loss is None or best_val_loss > (saving_threshold * val_losses[-1]):\n",
    "        print(\"Model improved...saving\")\n",
    "        \n",
    "        model_name = '{}.pth'.format(str(val_losses[-1]))\n",
    "        save_path = os.path.join(saved_models_dir, model_name)\n",
    "        torch.save(net.state_dict(), save_path)\n",
    "        best_val_loss = val_losses[-1]\n",
    "                    \n",
    "    # print stats on epoch (print the last value appended)\n",
    "    print('Epoch {}, train loss {:.3f}, val loss {:.3f}'.format(epoch, train_losses[-1], val_losses[-1]))"
   ]
  },
  {
   "cell_type": "code",
   "execution_count": null,
   "metadata": {},
   "outputs": [],
   "source": [
    "# plot train/val loss\n",
    "show_plot(train_losses, val_losses)"
   ]
  },
  {
   "cell_type": "code",
   "execution_count": null,
   "metadata": {},
   "outputs": [],
   "source": []
  },
  {
   "cell_type": "code",
   "execution_count": null,
   "metadata": {},
   "outputs": [],
   "source": []
  },
  {
   "cell_type": "code",
   "execution_count": null,
   "metadata": {},
   "outputs": [],
   "source": []
  },
  {
   "cell_type": "code",
   "execution_count": null,
   "metadata": {},
   "outputs": [],
   "source": []
  },
  {
   "cell_type": "markdown",
   "metadata": {},
   "source": [
    "## Some simple testing\n",
    "The last 3 subjects were held out from the training, and will be used to test. The Distance between each image pair denotes the degree of similarity the model found between the two images. Less means it found more similar, while higher values indicate it found them to be dissimilar."
   ]
  },
  {
   "cell_type": "code",
   "execution_count": null,
   "metadata": {
    "run_control": {
     "marked": true
    },
    "scrolled": false
   },
   "outputs": [],
   "source": [
    "folder_dataset_test = dset.ImageFolder(root=Config.testing_dir)\n",
    "siamese_dataset = SiameseNetworkDataset(imageFolderDataset=folder_dataset_test,\n",
    "                                        transform=transforms.Compose([transforms.Resize((100,100)),\n",
    "                                                                      transforms.ToTensor()\n",
    "                                                                      ])\n",
    "                                       ,should_invert=False)\n",
    "\n",
    "test_dataloader = DataLoader(siamese_dataset,num_workers=6,batch_size=1,shuffle=True)\n",
    "dataiter = iter(test_dataloader)\n",
    "x0,_,_ = next(dataiter)\n",
    "\n",
    "for i in range(10):\n",
    "    _,x1,label2 = next(dataiter)\n",
    "    concatenated = torch.cat((x0,x1),0)\n",
    "    \n",
    "    if torch.cuda.is_available():\n",
    "        output1,output2 = net(Variable(x0).cuda(),Variable(x1).cuda())\n",
    "    else:\n",
    "        output1,output2 = net(Variable(x0),Variable(x1))\n",
    "    \n",
    "    \n",
    "    euclidean_distance = F.pairwise_distance(output1, output2)\n",
    "    imshow(torchvision.utils.make_grid(concatenated),'Dissimilarity: {:.2f}'.format(euclidean_distance.item()))\n",
    "\n"
   ]
  },
  {
   "cell_type": "code",
   "execution_count": null,
   "metadata": {},
   "outputs": [],
   "source": []
  },
  {
   "cell_type": "code",
   "execution_count": null,
   "metadata": {},
   "outputs": [],
   "source": []
  },
  {
   "cell_type": "code",
   "execution_count": null,
   "metadata": {},
   "outputs": [],
   "source": []
  },
  {
   "cell_type": "code",
   "execution_count": null,
   "metadata": {},
   "outputs": [],
   "source": []
  },
  {
   "cell_type": "code",
   "execution_count": null,
   "metadata": {},
   "outputs": [],
   "source": []
  },
  {
   "cell_type": "code",
   "execution_count": null,
   "metadata": {},
   "outputs": [],
   "source": []
  }
 ],
 "metadata": {
  "hide_input": false,
  "kernelspec": {
   "display_name": "Python 3",
   "language": "python",
   "name": "python3"
  },
  "language_info": {
   "codemirror_mode": {
    "name": "ipython",
    "version": 3
   },
   "file_extension": ".py",
   "mimetype": "text/x-python",
   "name": "python",
   "nbconvert_exporter": "python",
   "pygments_lexer": "ipython3",
   "version": "3.6.8"
  }
 },
 "nbformat": 4,
 "nbformat_minor": 2
}
